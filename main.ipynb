{
 "cells": [
  {
   "cell_type": "code",
   "execution_count": 1,
   "metadata": {},
   "outputs": [],
   "source": [
    "from sklearn.ensemble import VotingClassifier\n",
    "from sklearn.linear_model import LinearRegression\n",
    "from sklearn.linear_model import LogisticRegression\n",
    "from sklearn.linear_model.stochastic_gradient import SGDClassifier\n",
    "from sklearn.metrics import accuracy_score\n",
    "from sklearn.model_selection import cross_val_score\n",
    "from sklearn.naive_bayes import MultinomialNB\n",
    "from sklearn.neighbors import KNeighborsClassifier\n",
    "from sklearn.neural_network import MLPClassifier\n",
    "from sklearn.svm import SVC\n",
    "from sklearn.tree import DecisionTreeClassifier\n",
    "\n",
    "import pickle\n",
    "import warnings\n",
    "\n",
    "from UnigramTfFeatureGeneration1 import create_feature_set_and_labels, create_test_feature_set_and_labels\n",
    "from UnigramTfidfFeaturesetGeneration1 import get_features, get_test_features"
   ]
  },
  {
   "cell_type": "code",
   "execution_count": 2,
   "metadata": {},
   "outputs": [],
   "source": [
    "def begin_test(train_x, test_x, train_y, test_y):\n",
    "    x = train_x + test_x\n",
    "    y = train_y + test_y\n",
    "    \n",
    "    clf1 = LinearRegression()\n",
    "    clf2 = LogisticRegression()\n",
    "    clf3 = SGDClassifier()\n",
    "    clf4 = SVC()\n",
    "    clf5 = KNeighborsClassifier()\n",
    "    clf6 = MLPClassifier()\n",
    "    clf7 = DecisionTreeClassifier()\n",
    "    clf8 = MultinomialNB()\n",
    "    \n",
    "    eclf = VotingClassifier(\n",
    "        estimators=[('logr', clf2), ('sgd', clf3), ('svm', clf4), ('kn', clf5), ('nn', clf6), ('dt', clf7)],\n",
    "        voting='hard')\n",
    "    \n",
    "    for label, clf in zip(\n",
    "        ['LogisticRegressionClassifier', 'SGDClassifierClassifier', 'SVCClassifier',\n",
    "         'NearestNeighbourClassifier', 'NeuralNetworkClassifier', 'DecisionTreeClassifier',\n",
    "         'MultinomialNB', 'EnsembleClassifier'],\n",
    "        [clf2, clf3, clf4, clf5, clf6, clf7, clf8, eclf]):\n",
    "        scores = cross_val_score(clf, x, y, cv=10, scoring='accuracy')\n",
    "        filename = 'zeroth3_' + label + '.sav'\n",
    "        pickle.dump(clf, open(filename, 'wb'))\n",
    "        f_measure = cross_val_score(clf, x, y, cv=10, scoring='f1')\n",
    "        print(label, \"Accuracy:  \", scores.mean(), \"+/- \", scores.std())\n",
    "        print(label, \"F-measure:  \", f_measure.mean())\n",
    "        "
   ]
  },
  {
   "cell_type": "code",
   "execution_count": 3,
   "metadata": {},
   "outputs": [],
   "source": [
    "def test_by_tf():\n",
    "    train_x, train_y, test_x, test_y = create_feature_set_and_labels('pos_hindi_final.txt', 'neg_hindi_final.txt', 'pos_eng_final.txt', 'neg_eng_final.txt', 'pos_hinglish.txt', 'neg_hinglish.txt')\n",
    "    #test_x, test_y = create_test_feature_set_and_labels('pos_hinglish.txt', 'neg_hinglish.txt')\n",
    "    begin_test(train_x, test_x, train_y, test_y)"
   ]
  },
  {
   "cell_type": "code",
   "execution_count": null,
   "metadata": {},
   "outputs": [],
   "source": []
  },
  {
   "cell_type": "code",
   "execution_count": 4,
   "metadata": {},
   "outputs": [],
   "source": [
    "def test_by_tfidf():\n",
    "    train_x, train_y, test_x, test_y = get_features()\n",
    "    begin_test(train_x, test_x, train_y, test_y)"
   ]
  },
  {
   "cell_type": "code",
   "execution_count": null,
   "metadata": {},
   "outputs": [],
   "source": []
  },
  {
   "cell_type": "code",
   "execution_count": 5,
   "metadata": {},
   "outputs": [
    {
     "name": "stdout",
     "output_type": "stream",
     "text": [
      "==========\n",
      "==========\n",
      "Unigram+Tfidf Accuracies\n",
      "LogisticRegressionClassifier Accuracy:   0.9373980857851825 +/-  0.0038284296348812586\n",
      "LogisticRegressionClassifier F-measure:   0.967683615819209\n",
      "SGDClassifierClassifier Accuracy:   0.9481507739572257 +/-  0.012629768802925207\n",
      "SGDClassifierClassifier F-measure:   0.9731204566805287\n",
      "SVCClassifier Accuracy:   0.9373980857851825 +/-  0.0038284296348812586\n",
      "SVCClassifier F-measure:   0.967683615819209\n",
      "NearestNeighbourClassifier Accuracy:   0.9352002835873803 +/-  0.0049470556609484415\n",
      "NearestNeighbourClassifier F-measure:   0.9665084745762711\n",
      "NeuralNetworkClassifier Accuracy:   0.9438733309701052 +/-  0.012428985115806044\n",
      "NeuralNetworkClassifier F-measure:   0.9707598138376474\n",
      "DecisionTreeClassifier Accuracy:   0.9319744771357674 +/-  0.020393170051927152\n",
      "DecisionTreeClassifier F-measure:   0.9654895688629532\n",
      "MultinomialNB Accuracy:   0.9373980857851825 +/-  0.0038284296348812586\n",
      "MultinomialNB F-measure:   0.967683615819209\n",
      "EnsembleClassifier Accuracy:   0.9481744062389224 +/-  0.00932400585886476\n",
      "EnsembleClassifier F-measure:   0.9731204566805287\n"
     ]
    }
   ],
   "source": [
    "warnings.filterwarnings('ignore')\n",
    "if __name__ == '__main__':\n",
    "    print(\"=\"*10)\n",
    "    #print(\"Unigram+Tf Accuracies\")\n",
    "    #test_by_tf()\n",
    "    print(\"=\" * 10)\n",
    "    print(\"Unigram+Tfidf Accuracies\")\n",
    "    test_by_tfidf()"
   ]
  },
  {
   "cell_type": "code",
   "execution_count": 13,
   "metadata": {},
   "outputs": [
    {
     "name": "stdout",
     "output_type": "stream",
     "text": [
      "==========\n",
      "==========\n",
      "Unigram+Tfidf Accuracies\n",
      "LogisticRegressionClassifier Accuracy:   0.8474077407740774 +/-  0.0029703333967534425\n",
      "LogisticRegressionClassifier F-measure:   0.9173991548396623\n",
      "SGDClassifierClassifier Accuracy:   0.9177032703270328 +/-  0.015849290739379726\n",
      "SGDClassifierClassifier F-measure:   0.9547427170626752\n",
      "SVCClassifier Accuracy:   0.8474077407740774 +/-  0.0029703333967534425\n",
      "SVCClassifier F-measure:   0.9173991548396623\n",
      "NearestNeighbourClassifier Accuracy:   0.8725103510351035 +/-  0.032349455987476274\n",
      "NearestNeighbourClassifier F-measure:   0.9256420351500383\n",
      "NeuralNetworkClassifier Accuracy:   0.9144931493149315 +/-  0.026663212302323713\n",
      "NeuralNetworkClassifier F-measure:   0.951523742708857\n",
      "DecisionTreeClassifier Accuracy:   0.9226436643664366 +/-  0.0239125374189162\n",
      "DecisionTreeClassifier F-measure:   0.9531524752737999\n",
      "MultinomialNB Accuracy:   0.8474077407740774 +/-  0.0029703333967534425\n",
      "MultinomialNB F-measure:   0.9173991548396623\n",
      "EnsembleClassifier Accuracy:   0.9185933593359336 +/-  0.023296496521424993\n",
      "EnsembleClassifier F-measure:   0.9561650074464463\n"
     ]
    }
   ],
   "source": [
    "warnings.filterwarnings('ignore')\n",
    "if __name__ == '__main__':\n",
    "    print(\"=\"*10)\n",
    "    #print(\"Unigram+Tf Accuracies\")\n",
    "    #test_by_tf()\n",
    "    print(\"=\" * 10)\n",
    "    print(\"Unigram+Tfidf Accuracies\")\n",
    "    test_by_tfidf()"
   ]
  },
  {
   "cell_type": "code",
   "execution_count": 10,
   "metadata": {},
   "outputs": [
    {
     "name": "stdout",
     "output_type": "stream",
     "text": [
      "==========\n",
      "==========\n",
      "Unigram+Tfidf Accuracies\n",
      "LogisticRegressionClassifier Accuracy:   0.9233383565595377 +/-  0.0028412112001465835\n",
      "LogisticRegressionClassifier F-measure:   0.9601390861555619\n",
      "SGDClassifierClassifier Accuracy:   0.9395263246894056 +/-  0.010961404331998836\n",
      "SGDClassifierClassifier F-measure:   0.96995888558848\n",
      "SVCClassifier Accuracy:   0.9233383565595377 +/-  0.0028412112001465835\n",
      "SVCClassifier F-measure:   0.9601390861555619\n",
      "NearestNeighbourClassifier Accuracy:   0.9157992897854434 +/-  0.015673692076338095\n",
      "NearestNeighbourClassifier F-measure:   0.955878379696534\n",
      "NeuralNetworkClassifier Accuracy:   0.9405784667721047 +/-  0.012174473654583417\n",
      "NeuralNetworkClassifier F-measure:   0.9692895683693583\n",
      "DecisionTreeClassifier Accuracy:   0.9286450717674792 +/-  0.025052071801220217\n",
      "DecisionTreeClassifier F-measure:   0.9638965258934176\n",
      "MultinomialNB Accuracy:   0.9233383565595377 +/-  0.0028412112001465835\n",
      "MultinomialNB F-measure:   0.9601390861555619\n",
      "EnsembleClassifier Accuracy:   0.9416768623238141 +/-  0.009906597553396922\n",
      "EnsembleClassifier F-measure:   0.969367752583554\n"
     ]
    }
   ],
   "source": [
    "warnings.filterwarnings('ignore')\n",
    "if __name__ == '__main__':\n",
    "    print(\"=\"*10)\n",
    "    #print(\"Unigram+Tf Accuracies\")\n",
    "    #test_by_tf()\n",
    "    print(\"=\" * 10)\n",
    "    print(\"Unigram+Tfidf Accuracies\")\n",
    "    test_by_tfidf()"
   ]
  },
  {
   "cell_type": "code",
   "execution_count": 5,
   "metadata": {},
   "outputs": [
    {
     "name": "stdout",
     "output_type": "stream",
     "text": [
      "==========\n",
      "Unigram+Tfidf Accuracies\n",
      "LogisticRegressionClassifier Accuracy:   0.9276749431027131 +/-  0.004500473964707945\n",
      "LogisticRegressionClassifier F-measure:   0.9624750343812236\n",
      "SGDClassifierClassifier Accuracy:   0.9417477099805291 +/-  0.012724462899481773\n",
      "SGDClassifierClassifier F-measure:   0.9660792621521976\n",
      "SVCClassifier Accuracy:   0.9276749431027131 +/-  0.004500473964707945\n",
      "SVCClassifier F-measure:   0.9624750343812236\n",
      "NearestNeighbourClassifier Accuracy:   0.9277102630889447 +/-  0.012476966650351067\n",
      "NearestNeighbourClassifier F-measure:   0.9623548394663446\n",
      "NeuralNetworkClassifier Accuracy:   0.9363713658945075 +/-  0.013740376913347306\n",
      "NeuralNetworkClassifier F-measure:   0.9660269990562252\n",
      "DecisionTreeClassifier Accuracy:   0.9287857887787763 +/-  0.022043118804057668\n",
      "DecisionTreeClassifier F-measure:   0.9606169284911233\n",
      "MultinomialNB Accuracy:   0.9276749431027131 +/-  0.004500473964707945\n",
      "MultinomialNB F-measure:   0.9624750343812236\n",
      "EnsembleClassifier Accuracy:   0.9406724411633247 +/-  0.010789634985545834\n",
      "EnsembleClassifier F-measure:   0.9690267725731614\n"
     ]
    }
   ],
   "source": [
    "# Tweeter\n",
    "warnings.filterwarnings('ignore')\n",
    "if __name__ == '__main__':\n",
    "    #print(\"=\"*10)\n",
    "    #print(\"Unigram+Tf Accuracies\")\n",
    "    #test_by_tf()\n",
    "    print(\"=\" * 10)\n",
    "    print(\"Unigram+Tfidf Accuracies\")\n",
    "    test_by_tfidf()"
   ]
  },
  {
   "cell_type": "code",
   "execution_count": null,
   "metadata": {},
   "outputs": [],
   "source": []
  }
 ],
 "metadata": {
  "kernelspec": {
   "display_name": "Python 3",
   "language": "python",
   "name": "python3"
  },
  "language_info": {
   "codemirror_mode": {
    "name": "ipython",
    "version": 3
   },
   "file_extension": ".py",
   "mimetype": "text/x-python",
   "name": "python",
   "nbconvert_exporter": "python",
   "pygments_lexer": "ipython3",
   "version": "3.7.3"
  }
 },
 "nbformat": 4,
 "nbformat_minor": 2
}
